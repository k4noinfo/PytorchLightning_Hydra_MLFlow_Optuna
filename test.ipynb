{
 "cells": [
  {
   "cell_type": "markdown",
   "metadata": {},
   "source": [
    "# Config 読み込みテスト"
   ]
  },
  {
   "cell_type": "code",
   "execution_count": 1,
   "metadata": {
    "vscode": {
     "languageId": "python"
    }
   },
   "outputs": [],
   "source": [
    "import os\n",
    "if '__file__' in locals():\n",
    "    os.chdir(os.path.dirname(os.path.abspath(__file__)))\n",
    "else:\n",
    "    os.chdir(os.path.dirname(os.path.abspath(__vsc_ipynb_file__).replace('/home/kshinoda','/home/user')))"
   ]
  },
  {
   "cell_type": "code",
   "execution_count": 2,
   "metadata": {
    "vscode": {
     "languageId": "python"
    }
   },
   "outputs": [
    {
     "data": {
      "text/plain": [
       "'/home/user/Work/Program/PytorchLightning_Hydra_MLFlow_Optuna'"
      ]
     },
     "execution_count": 2,
     "metadata": {},
     "output_type": "execute_result"
    }
   ],
   "source": [
    "import os\n",
    "os.getcwd()"
   ]
  },
  {
   "cell_type": "code",
   "execution_count": 3,
   "metadata": {
    "vscode": {
     "languageId": "python"
    }
   },
   "outputs": [],
   "source": [
    "from src.utils.config import load_config"
   ]
  },
  {
   "cell_type": "code",
   "execution_count": 4,
   "metadata": {
    "vscode": {
     "languageId": "python"
    }
   },
   "outputs": [
    {
     "name": "stderr",
     "output_type": "stream",
     "text": [
      "/opt/conda/lib/python3.8/site-packages/hydra/experimental/initialize.py:43: UserWarning: hydra.experimental.initialize() is no longer experimental. Use hydra.initialize()\n",
      "  deprecation_warning(message=message)\n",
      "/opt/conda/lib/python3.8/site-packages/hydra/experimental/initialize.py:45: UserWarning: \n",
      "The version_base parameter is not specified.\n",
      "Please specify a compatability version level, or None.\n",
      "Will assume defaults for version 1.1\n",
      "  self.delegate = real_initialize(\n",
      "/opt/conda/lib/python3.8/site-packages/hydra/experimental/compose.py:25: UserWarning: hydra.experimental.compose() is no longer experimental. Use hydra.compose()\n",
      "  deprecation_warning(message=message)\n",
      "/opt/conda/lib/python3.8/site-packages/hydra/core/default_element.py:124: UserWarning: In 'callbacks/default': Usage of deprecated keyword in package header '# @package _group_'.\n",
      "See https://hydra.cc/docs/next/upgrades/1.0_to_1.1/changes_to_package_header for more information\n",
      "  deprecation_warning(\n"
     ]
    }
   ],
   "source": [
    "config = load_config('config','config')"
   ]
  },
  {
   "cell_type": "markdown",
   "metadata": {},
   "source": [
    "# TSDataset のテスト\n",
    "データの読み込みに失敗したときには os.getcwd() で現在のディレクトリを確認のこと"
   ]
  },
  {
   "cell_type": "code",
   "execution_count": 5,
   "metadata": {
    "vscode": {
     "languageId": "python"
    }
   },
   "outputs": [],
   "source": [
    "from data.EEG.dataset import TSDataset\n",
    "from pathlib import Path"
   ]
  },
  {
   "cell_type": "code",
   "execution_count": 6,
   "metadata": {
    "vscode": {
     "languageId": "python"
    }
   },
   "outputs": [
    {
     "name": "stdout",
     "output_type": "stream",
     "text": [
      "train  (x,y):  (4706, 1, 14) (4706, 1, 14)\n",
      "train total: (x,y):  (4706, 1, 14) (4706, 1, 14)\n"
     ]
    }
   ],
   "source": [
    "dataset = TSDataset(config.data,'train',Path('./data/EEG/'))"
   ]
  },
  {
   "cell_type": "code",
   "execution_count": 8,
   "metadata": {
    "vscode": {
     "languageId": "python"
    }
   },
   "outputs": [],
   "source": [
    "from torch.utils.data import DataLoader\n",
    "dataloader = DataLoader(dataset, batch_size=2, drop_last=True)"
   ]
  },
  {
   "cell_type": "code",
   "execution_count": 9,
   "metadata": {
    "vscode": {
     "languageId": "python"
    }
   },
   "outputs": [
    {
     "name": "stdout",
     "output_type": "stream",
     "text": [
      "[tensor([[[0.0209, 0.2439, 0.5558, 0.0126, 0.5096, 0.0150, 0.0135, 0.0324,\n",
      "          0.0206, 0.5056, 0.2981, 0.4423, 0.0404, 0.0144]],\n",
      "\n",
      "        [[0.0208, 0.2415, 0.5549, 0.0126, 0.5087, 0.0150, 0.0134, 0.0322,\n",
      "          0.0206, 0.5055, 0.2988, 0.4434, 0.0404, 0.0144]]]), tensor([[[0.0209, 0.2439, 0.5558, 0.0126, 0.5096, 0.0150, 0.0135, 0.0324,\n",
      "          0.0206, 0.5056, 0.2981, 0.4423, 0.0404, 0.0144]],\n",
      "\n",
      "        [[0.0208, 0.2415, 0.5549, 0.0126, 0.5087, 0.0150, 0.0134, 0.0322,\n",
      "          0.0206, 0.5055, 0.2988, 0.4434, 0.0404, 0.0144]]])]\n"
     ]
    }
   ],
   "source": [
    "for i, batch in enumerate(dataloader):\n",
    "    print(batch)\n",
    "    break"
   ]
  },
  {
   "cell_type": "markdown",
   "metadata": {},
   "source": [
    "# DataModule テスト"
   ]
  },
  {
   "cell_type": "code",
   "execution_count": 10,
   "metadata": {
    "vscode": {
     "languageId": "python"
    }
   },
   "outputs": [],
   "source": [
    "from src.utils.dataset import DataModule"
   ]
  },
  {
   "cell_type": "code",
   "execution_count": 12,
   "metadata": {
    "vscode": {
     "languageId": "python"
    }
   },
   "outputs": [
    {
     "name": "stdout",
     "output_type": "stream",
     "text": [
      "train  (x,y):  (4706, 1, 14) (4706, 1, 14)\n",
      "train total: (x,y):  (4706, 1, 14) (4706, 1, 14)\n",
      "val  (x,y):  (2017, 1, 14) (2017, 1, 14)\n",
      "val total: (x,y):  (2017, 1, 14) (2017, 1, 14)\n",
      "test  (x,y):  (14980, 1, 14) (14980, 1, 14)\n",
      "test total: (x,y):  (14980, 1, 14) (14980, 1, 14)\n"
     ]
    }
   ],
   "source": [
    "dm = DataModule(config.data)\n",
    "dm.setup()"
   ]
  },
  {
   "cell_type": "code",
   "execution_count": 17,
   "metadata": {
    "vscode": {
     "languageId": "python"
    }
   },
   "outputs": [
    {
     "name": "stdout",
     "output_type": "stream",
     "text": [
      "torch.Size([32, 1, 14])\n"
     ]
    }
   ],
   "source": [
    "for i, batch in enumerate(dm.train_dataloader()):\n",
    "    x, y = batch\n",
    "    print(x.shape)\n",
    "    break"
   ]
  }
 ],
 "metadata": {
  "kernelspec": {
   "display_name": "Python 3 (ipykernel)",
   "language": "python",
   "name": "python3"
  },
  "vscode": {
   "interpreter": {
    "hash": "31f2aee4e71d21fbe5cf8b01ff0e069b9275f58929596ceb00d14d90e3e16cd6"
   }
  },
  "widgets": {
   "application/vnd.jupyter.widget-state+json": {
    "state": {},
    "version_major": 2,
    "version_minor": 0
   }
  }
 },
 "nbformat": 4,
 "nbformat_minor": 4
}
